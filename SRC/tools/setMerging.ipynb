{
  "nbformat": 4,
  "nbformat_minor": 0,
  "metadata": {
    "colab": {
      "provenance": [],
      "machine_shape": "hm"
    },
    "kernelspec": {
      "name": "ir",
      "display_name": "R"
    },
    "language_info": {
      "name": "R"
    },
    "gpuClass": "premium",
    "accelerator": "TPU"
  },
  "cells": [
    {
      "cell_type": "markdown",
      "source": [
        "**Dependencies**"
      ],
      "metadata": {
        "id": "UVLj0CRs7-UN"
      }
    },
    {
      "cell_type": "code",
      "source": [
        "install.packages('writexl')\n",
        "install.packages(\"readxl\")"
      ],
      "metadata": {
        "id": "SjrbLC1ftcsK"
      },
      "execution_count": null,
      "outputs": []
    },
    {
      "cell_type": "markdown",
      "source": [
        "**Prep**"
      ],
      "metadata": {
        "id": "bT_IWW4K7755"
      }
    },
    {
      "cell_type": "code",
      "source": [
        "library(writexl)\n",
        "library(readxl)\n",
        "rm(list = ls())"
      ],
      "metadata": {
        "id": "Ey_UUehSFDEh"
      },
      "execution_count": null,
      "outputs": []
    },
    {
      "cell_type": "markdown",
      "source": [
        "**Data in:**\n",
        "Replace files with desired imports as wished. Ensure that columns you want matched have the same column headers/format and it should be fine. \n",
        "Here we have a merging of a very big set \"Mask_to_InternationalTravel.xlsx\" with our last data, \"Covid.xlsx\". These sets are different each run. For example, initially bigSet was our starter Influenza data and newSet was our policy Masks."
      ],
      "metadata": {
        "id": "-s0oyAZ_71i-"
      }
    },
    {
      "cell_type": "code",
      "source": [
        "rm(list = ls())\n",
        "library(readxl)\n",
        "bigSet <- read_excel(\"Mask_to_InternationalTravel.xlsx\")\n",
        "newSet <- read_excel(\"Covid.xlsx\")"
      ],
      "metadata": {
        "id": "B7FoM71dNK9V"
      },
      "execution_count": null,
      "outputs": []
    },
    {
      "cell_type": "markdown",
      "source": [
        "**Quick Tests**: both sets before running."
      ],
      "metadata": {
        "id": "NXXKOBRv7hW9"
      }
    },
    {
      "cell_type": "code",
      "source": [
        "#bigSet\n",
        "print(colnames(bigSet))\n",
        "#print(duplicated(bigSet[c(\"Country\", \"Code\", \"Date\")]))"
      ],
      "metadata": {
        "id": "q4KjyfuXQmky"
      },
      "execution_count": null,
      "outputs": []
    },
    {
      "cell_type": "code",
      "source": [
        "#newSet\n",
        "print(colnames(newSet))\n",
        "#print(duplicated(newSet[c(\"Country\", \"Code\", \"Date\")]))"
      ],
      "metadata": {
        "id": "0YuqmckuNMoG"
      },
      "execution_count": null,
      "outputs": []
    },
    {
      "cell_type": "markdown",
      "source": [
        "**Merge Execution**"
      ],
      "metadata": {
        "id": "Ww-KhKaOYrcY"
      }
    },
    {
      "cell_type": "code",
      "source": [
        "full_dataset <- merge(bigSet, newSet, by = c(\"Country\", \"Code\", \"Date\"))"
      ],
      "metadata": {
        "id": "J6ciSmc0URvm"
      },
      "execution_count": null,
      "outputs": []
    },
    {
      "cell_type": "markdown",
      "source": [
        "**Ensure Format of the Dates**"
      ],
      "metadata": {
        "id": "em4Y6fw37oNw"
      }
    },
    {
      "cell_type": "code",
      "execution_count": null,
      "metadata": {
        "id": "2hT4G69n3PBA"
      },
      "outputs": [],
      "source": [
        "full_dataset$Date <- format(full_dataset$Date, \"%m/%d/%Y\")"
      ]
    },
    {
      "cell_type": "markdown",
      "source": [
        "**Print out check**"
      ],
      "metadata": {
        "id": "uyOP95TF7w5O"
      }
    },
    {
      "cell_type": "code",
      "source": [
        "full_dataset"
      ],
      "metadata": {
        "id": "cPFobX07GtbW"
      },
      "execution_count": null,
      "outputs": []
    },
    {
      "cell_type": "markdown",
      "source": [
        "**Export to file**"
      ],
      "metadata": {
        "id": "ANBlZJvN7y5c"
      }
    },
    {
      "cell_type": "code",
      "source": [
        "write_xlsx(full_dataset, \"Mask_to_Covid.xlsx\")"
      ],
      "metadata": {
        "id": "CFJZgUQdE5BW"
      },
      "execution_count": null,
      "outputs": []
    }
  ]
}