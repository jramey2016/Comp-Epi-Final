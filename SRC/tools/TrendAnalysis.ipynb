{
  "nbformat": 4,
  "nbformat_minor": 0,
  "metadata": {
    "colab": {
      "provenance": []
    },
    "kernelspec": {
      "name": "python3",
      "display_name": "Python 3"
    },
    "language_info": {
      "name": "python"
    }
  },
  "cells": [
    {
      "cell_type": "markdown",
      "source": [
        "**Dependency Imports**"
      ],
      "metadata": {
        "id": "mSyAQ5G87GG0"
      }
    },
    {
      "cell_type": "code",
      "execution_count": 35,
      "metadata": {
        "id": "pI-18-606u40"
      },
      "outputs": [],
      "source": [
        "import pandas as pd\n",
        "#import matplotlib.pyplot as plt\n",
        "import statsmodels.formula.api as smf"
      ]
    },
    {
      "cell_type": "markdown",
      "source": [
        "**Data Ingest**\n",
        "\n",
        "Be sure to upload and choose the data set that you with to run this on."
      ],
      "metadata": {
        "id": "A4Z2v3TM7O8b"
      }
    },
    {
      "cell_type": "code",
      "source": [
        "#df = pd.read_excel('testSet.xlsx')\n",
        "df = pd.read_excel('US_AllData.xlsx')\n",
        "#df = pd.read_excel('China_AllData.xlsx')\n",
        "#df = pd.read_excel('Sweden_AllData.xlsx')"
      ],
      "metadata": {
        "id": "9XMBxdnb7LOi"
      },
      "execution_count": 36,
      "outputs": []
    },
    {
      "cell_type": "markdown",
      "source": [
        "**Matrix building**"
      ],
      "metadata": {
        "id": "UldFn7g07RGz"
      }
    },
    {
      "cell_type": "code",
      "source": [
        "correlation_matrix = df[['INF_ALL_Difference', 'facial_coverings', 'contact_tracing', 'vaccination_policy', 'public_information_campaigns', 'school_closures', 'workplace_closures', 'stay_home_requirements', 'cancel_public_events', 'restriction_gatherings', 'close_public_transport', 'restrictions_internal_movements', 'international_travel_controls', 'DAILY_CASES_Covid', 'DAILY_CASES_DEATHS_Covid', 'PERSONS_TESTED_Covid']].corr()\n",
        "#print(correlation_matrix)"
      ],
      "metadata": {
        "id": "oW8GMnzV7RXt"
      },
      "execution_count": 37,
      "outputs": []
    },
    {
      "cell_type": "markdown",
      "source": [
        "**Model: OLS**\n",
        "\n",
        "First model is without covid case data factored in\n",
        "Second Model has covid data"
      ],
      "metadata": {
        "id": "EZ7E6w1K8dhJ"
      }
    },
    {
      "cell_type": "code",
      "source": [
        "#No Covid\n",
        "model = smf.ols('INF_ALL_Difference ~ facial_coverings + contact_tracing + vaccination_policy + public_information_campaigns + school_closures + workplace_closures + stay_home_requirements + cancel_public_events + restriction_gatherings + close_public_transport + restrictions_internal_movements + international_travel_controls', data=df)\n",
        "#Covid\n",
        "model2 = smf.ols('INF_ALL_Difference ~ facial_coverings + contact_tracing + vaccination_policy + public_information_campaigns + school_closures + workplace_closures + stay_home_requirements + cancel_public_events + restriction_gatherings + close_public_transport + restrictions_internal_movements + international_travel_controls + DAILY_CASES_Covid + DAILY_CASES_DEATHS_Covid + PERSONS_TESTED_Covid', data=df)\n",
        "#Fun Mode - For testing other correlations and situations\n",
        "#model3 = smf.ols('DAILY_CASES_Covid ~ INF_ALL + facial_coverings + contact_tracing + vaccination_policy + public_information_campaigns + school_closures + workplace_closures + stay_home_requirements + cancel_public_events + restriction_gatherings + close_public_transport + restrictions_internal_movements + international_travel_controls + DAILY_CASES_DEATHS_Covid + PERSONS_TESTED_Covid', data=df)\n",
        "\n",
        "results = model.fit()\n",
        "results2 = model2.fit()\n",
        "#results3 = model3.fit()\n",
        "print(results.summary())\n",
        "print('\\n')\n",
        "print(results2.summary())\n",
        "print('\\n')\n",
        "#print(results3.summary())"
      ],
      "metadata": {
        "colab": {
          "base_uri": "https://localhost:8080/"
        },
        "id": "VkwfdRTh8fBs",
        "outputId": "3bbba546-d677-416e-e126-ac97c87d11e6"
      },
      "execution_count": 38,
      "outputs": [
        {
          "output_type": "stream",
          "name": "stdout",
          "text": [
            "                            OLS Regression Results                            \n",
            "==============================================================================\n",
            "Dep. Variable:     INF_ALL_Difference   R-squared:                       0.658\n",
            "Model:                            OLS   Adj. R-squared:                  0.654\n",
            "Method:                 Least Squares   F-statistic:                     179.8\n",
            "Date:                Mon, 01 May 2023   Prob (F-statistic):          1.20e-230\n",
            "Time:                        16:27:21   Log-Likelihood:                -7964.1\n",
            "No. Observations:                1041   AIC:                         1.595e+04\n",
            "Df Residuals:                    1029   BIC:                         1.601e+04\n",
            "Df Model:                          11                                         \n",
            "Covariance Type:            nonrobust                                         \n",
            "===================================================================================================\n",
            "                                      coef    std err          t      P>|t|      [0.025      0.975]\n",
            "---------------------------------------------------------------------------------------------------\n",
            "Intercept                        1666.6513     46.822     35.595      0.000    1574.773    1758.530\n",
            "facial_coverings                 -214.6079     32.000     -6.707      0.000    -277.400    -151.816\n",
            "contact_tracing                  1666.6513     46.822     35.595      0.000    1574.773    1758.530\n",
            "vaccination_policy               -105.9657     23.295     -4.549      0.000    -151.677     -60.254\n",
            "public_information_campaigns     -167.1651    115.176     -1.451      0.147    -393.171      58.841\n",
            "school_closures                  -337.7823     51.591     -6.547      0.000    -439.018    -236.546\n",
            "workplace_closures               -216.2243     50.110     -4.315      0.000    -314.553    -117.896\n",
            "stay_home_requirements           -331.9311     70.124     -4.734      0.000    -469.533    -194.330\n",
            "cancel_public_events              -66.5289     46.873     -1.419      0.156    -158.505      25.448\n",
            "restriction_gatherings             -1.7649     21.638     -0.082      0.935     -44.225      40.696\n",
            "close_public_transport           -552.9676     48.127    -11.490      0.000    -647.405    -458.530\n",
            "restrictions_internal_movements   578.4315     41.888     13.809      0.000     496.237     660.626\n",
            "international_travel_controls    -124.7878     29.875     -4.177      0.000    -183.410     -66.165\n",
            "==============================================================================\n",
            "Omnibus:                      860.403   Durbin-Watson:                   0.062\n",
            "Prob(Omnibus):                  0.000   Jarque-Bera (JB):            31723.174\n",
            "Skew:                           3.537   Prob(JB):                         0.00\n",
            "Kurtosis:                      29.102   Cond. No.                     1.96e+16\n",
            "==============================================================================\n",
            "\n",
            "Notes:\n",
            "[1] Standard Errors assume that the covariance matrix of the errors is correctly specified.\n",
            "[2] The smallest eigenvalue is 1.32e-28. This might indicate that there are\n",
            "strong multicollinearity problems or that the design matrix is singular.\n",
            "\n",
            "\n",
            "                            OLS Regression Results                            \n",
            "==============================================================================\n",
            "Dep. Variable:     INF_ALL_Difference   R-squared:                       0.676\n",
            "Model:                            OLS   Adj. R-squared:                  0.672\n",
            "Method:                 Least Squares   F-statistic:                     152.9\n",
            "Date:                Mon, 01 May 2023   Prob (F-statistic):          2.10e-239\n",
            "Time:                        16:27:21   Log-Likelihood:                -7935.7\n",
            "No. Observations:                1041   AIC:                         1.590e+04\n",
            "Df Residuals:                    1026   BIC:                         1.598e+04\n",
            "Df Model:                          14                                         \n",
            "Covariance Type:            nonrobust                                         \n",
            "===================================================================================================\n",
            "                                      coef    std err          t      P>|t|      [0.025      0.975]\n",
            "---------------------------------------------------------------------------------------------------\n",
            "Intercept                        1684.9850     48.583     34.683      0.000    1589.652    1780.319\n",
            "facial_coverings                 -288.1183     33.060     -8.715      0.000    -352.991    -223.246\n",
            "contact_tracing                  1684.9850     48.583     34.683      0.000    1589.652    1780.319\n",
            "vaccination_policy               -110.4250     22.832     -4.836      0.000    -155.227     -65.623\n",
            "public_information_campaigns     -148.7124    116.039     -1.282      0.200    -376.413      78.988\n",
            "school_closures                  -258.9482     51.951     -4.984      0.000    -360.891    -157.006\n",
            "workplace_closures               -179.1902     56.109     -3.194      0.001    -289.292     -69.089\n",
            "stay_home_requirements           -423.2996     74.784     -5.660      0.000    -570.047    -276.552\n",
            "cancel_public_events             -212.6708     52.555     -4.047      0.000    -315.799    -109.542\n",
            "restriction_gatherings            -34.0963     24.537     -1.390      0.165     -82.245      14.052\n",
            "close_public_transport           -563.9581     48.092    -11.727      0.000    -658.327    -469.589\n",
            "restrictions_internal_movements   667.7902     43.580     15.323      0.000     582.274     753.306\n",
            "international_travel_controls    -134.1678     32.805     -4.090      0.000    -198.540     -69.796\n",
            "DAILY_CASES_Covid                  -0.0011      0.000     -4.580      0.000      -0.002      -0.001\n",
            "DAILY_CASES_DEATHS_Covid            0.1979      0.034      5.886      0.000       0.132       0.264\n",
            "PERSONS_TESTED_Covid                0.0002   5.56e-05      2.880      0.004     5.1e-05       0.000\n",
            "==============================================================================\n",
            "Omnibus:                      903.213   Durbin-Watson:                   0.074\n",
            "Prob(Omnibus):                  0.000   Jarque-Bera (JB):            36719.143\n",
            "Skew:                           3.785   Prob(JB):                         0.00\n",
            "Kurtosis:                      31.094   Cond. No.                     9.58e+17\n",
            "==============================================================================\n",
            "\n",
            "Notes:\n",
            "[1] Standard Errors assume that the covariance matrix of the errors is correctly specified.\n",
            "[2] The smallest eigenvalue is 1.34e-21. This might indicate that there are\n",
            "strong multicollinearity problems or that the design matrix is singular.\n",
            "\n",
            "\n"
          ]
        }
      ]
    },
    {
      "cell_type": "markdown",
      "source": [
        "------------------------------------------------------\n",
        "------------------------------------------------------\n",
        "\n",
        "------------------------------------------------------\n",
        "------------------------------------------------------\n",
        "\n",
        "Model: WLS\n",
        "\n",
        "Will Return the same results unless weights are assigned. (Bias)"
      ],
      "metadata": {
        "id": "mpl-Afax_-Jb"
      }
    },
    {
      "cell_type": "code",
      "source": [
        "#model = smf.wls('INF_ALL ~ facial_coverings + contact_tracing + vaccination_policy + public_information_campaigns + school_closures + workplace_closures + stay_home_requirements + cancel_public_events + restriction_gatherings + close_public_transport + restrictions_internal_movements + international_travel_controls + DAILY_CASES_Covid + DAILY_CASES_DEATHS_Covid + PERSONS_TESTED_Covid', data=df)\n",
        "model = smf.wls('INF_ALL_Difference ~ facial_coverings + contact_tracing + vaccination_policy + public_information_campaigns + school_closures + workplace_closures + stay_home_requirements + cancel_public_events + restriction_gatherings + close_public_transport + restrictions_internal_movements + international_travel_controls', data=df)\n",
        "model2 = smf.wls('INF_ALL_Difference ~ facial_coverings + contact_tracing + vaccination_policy + public_information_campaigns + school_closures + workplace_closures + stay_home_requirements + cancel_public_events + restriction_gatherings + close_public_transport + restrictions_internal_movements + international_travel_controls + DAILY_CASES_Covid + DAILY_CASES_DEATHS_Covid + PERSONS_TESTED_Covid', data=df)\n",
        "results = model.fit()\n",
        "results2 = model2.fit()\n",
        "print(results.summary())\n",
        "print(results2.summary())"
      ],
      "metadata": {
        "id": "y-v5FpqZAHPl"
      },
      "execution_count": null,
      "outputs": []
    }
  ]
}