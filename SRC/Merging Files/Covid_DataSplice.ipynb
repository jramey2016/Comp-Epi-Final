{
  "nbformat": 4,
  "nbformat_minor": 0,
  "metadata": {
    "colab": {
      "provenance": []
    },
    "kernelspec": {
      "name": "python3",
      "display_name": "Python 3"
    },
    "language_info": {
      "name": "python"
    }
  },
  "cells": [
    {
      "cell_type": "markdown",
      "source": [
        "**Install Prerequisites**"
      ],
      "metadata": {
        "id": "YK_ld21ukXUs"
      }
    },
    {
      "cell_type": "code",
      "source": [
        "import pandas as pd\n",
        "import xlrd\n",
        "from numpy import inf\n",
        "from datetime import datetime, timedelta "
      ],
      "metadata": {
        "id": "hTzlALAfm7Co"
      },
      "execution_count": null,
      "outputs": []
    },
    {
      "cell_type": "markdown",
      "source": [
        "**Load Data:** load from an excel doc. "
      ],
      "metadata": {
        "id": "VZfzKmjNYguG"
      }
    },
    {
      "cell_type": "code",
      "source": [
        "df = pd.read_excel('Covid.xlsx', sheet_name='Sheet1')"
      ],
      "metadata": {
        "id": "GZHEaQynm0cG"
      },
      "execution_count": null,
      "outputs": []
    },
    {
      "cell_type": "markdown",
      "source": [
        "**Debugging / Check if loaded:** 6 is just some random row. Note that there are only 6 columns of data in this set. This is the result of the preprocessing of the original data. Should a different file be loaded it is vital to reconfirm the array locations of important column data for below. "
      ],
      "metadata": {
        "id": "qp0CXv5-YrXn"
      }
    },
    {
      "cell_type": "code",
      "source": [
        "df.iloc[6]"
      ],
      "metadata": {
        "colab": {
          "base_uri": "https://localhost:8080/"
        },
        "id": "0GQAHADjo7kU",
        "outputId": "1a108a88-39e6-4a0f-f7fc-0fe851e8c243"
      },
      "execution_count": null,
      "outputs": [
        {
          "output_type": "execute_result",
          "data": {
            "text/plain": [
              "Country                                 Albania\n",
              "Code                                        ALB\n",
              "Date                        2020-05-04 00:00:00\n",
              "DAILY_CASES_Covid                            68\n",
              "DAILY_CASES_DEATHS_Covid                      0\n",
              "PERSONS_TESTED_Covid                       1572\n",
              "Name: 6, dtype: object"
            ]
          },
          "metadata": {},
          "execution_count": 4
        }
      ]
    },
    {
      "cell_type": "markdown",
      "source": [
        "More debugger options for value finding"
      ],
      "metadata": {
        "id": "UdidsNmeYMZb"
      }
    },
    {
      "cell_type": "code",
      "source": [
        "for row in df.iloc: #do for every row\n",
        "  print(row[0])"
      ],
      "metadata": {
        "id": "uYPB5S3mOVfy"
      },
      "execution_count": null,
      "outputs": []
    },
    {
      "cell_type": "code",
      "source": [
        "print(df.shape)"
      ],
      "metadata": {
        "id": "z7VS8ROEwdz6"
      },
      "execution_count": null,
      "outputs": []
    },
    {
      "cell_type": "markdown",
      "source": [
        "**Main Code for parsing through all rows. Will output weekly data as a new averaged daily.**\n",
        "This is were is is important that the column positions are accurectly mapped. \"infA = int(row[3]) / 7\" is pulling the INF_A data from out set. If there are a different amount of columns in the data set then these values must be reconfigured."
      ],
      "metadata": {
        "id": "wdSTlqBrW2ov"
      }
    },
    {
      "cell_type": "code",
      "source": [
        "masterList = []\n",
        "x = 0\n",
        "with open('output3.csv', 'w') as f:\n",
        "  for row in df.iloc: #do for every row\n",
        "    #print(row[4])\n",
        "    rowsDate = row[2]\n",
        "    #print(rowsDate)\n",
        "    #a, b, c = rowsDate.split('/')\n",
        "    #Covid Date Formatting\n",
        "    input_date = pd.Timestamp(rowsDate)\n",
        "    #input_date = datetime.strptime(rowsDate, '%Y-%m-%d %H:%M:%S')\n",
        "    currentDate = input_date.strftime('%Y/%m/%d')\n",
        "\n",
        "\n",
        "    date_obj = datetime.strptime(currentDate, \"%Y/%m/%d\")\n",
        "    day1temp = date_obj + timedelta(days=0)\n",
        "    day1 = day1temp.strftime(\"%m-%d-%Y\")\n",
        "    #print(day1)\n",
        "    day2temp = date_obj + timedelta(days=1)\n",
        "    day2 = day2temp.strftime(\"%m-%d-%Y\")\n",
        "    #print(day2)\n",
        "    day3temp = date_obj + timedelta(days=2)\n",
        "    day3 = day3temp.strftime(\"%m-%d-%Y\")\n",
        "    #print(day3)\n",
        "    day4temp = date_obj + timedelta(days=3)\n",
        "    day4 = day4temp.strftime(\"%m-%d-%Y\")\n",
        "    #print(day4)\n",
        "    day5temp = date_obj + timedelta(days=4)\n",
        "    day5 = day5temp.strftime(\"%m-%d-%Y\")\n",
        "    #print(day5)\n",
        "    day6temp = date_obj + timedelta(days=5)\n",
        "    day6 = day6temp.strftime(\"%m-%d-%Y\")\n",
        "    #print(day6)\n",
        "    day7temp = date_obj + timedelta(days=6)\n",
        "    day7 = day7temp.strftime(\"%m-%d-%Y\")\n",
        "    #print(day7)\n",
        "    allDays = [day1, day2, day3, day4, day5, day6, day7]\n",
        "    #print(\"----------\")\n",
        "    infA = int(row[3]) / 7\n",
        "    infB = int(row[4]) / 7\n",
        "    infAll = int(row[5]) / 7\n",
        "    for day in allDays:\n",
        "      newRow = []\n",
        "      newRow.append(row[0]) #Country\n",
        "      newRow.append(row[1]) #Code\n",
        "      newRow.append(day) #Date\n",
        "      newRow.append(infA)\n",
        "      newRow.append(infB)\n",
        "      newRow.append(infAll)\n",
        "      s = ','.join(str(x) for x in newRow)\n",
        "      s = s + \"\\n\"\n",
        "      f.write(s)\n",
        "  \n"
      ],
      "metadata": {
        "id": "7mJ9YA7Nrwqh"
      },
      "execution_count": null,
      "outputs": []
    }
  ]
}